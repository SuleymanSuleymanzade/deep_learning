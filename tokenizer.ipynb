{
 "cells": [
  {
   "cell_type": "code",
   "execution_count": 187,
   "metadata": {},
   "outputs": [],
   "source": [
    "import re\n",
    "import pathlib\n",
    "from typing import Dict, Set, List, Union, Tuple, Any\n",
    "import tiktoken\n",
    "import torch\n",
    "from torch.utils.data import Dataset, DataLoader"
   ]
  },
  {
   "cell_type": "markdown",
   "metadata": {},
   "source": [
    "#### Creating vocab."
   ]
  },
  {
   "cell_type": "code",
   "execution_count": 163,
   "metadata": {},
   "outputs": [],
   "source": [
    "class VocabBuilder:\n",
    "    def __setup(self, file) -> None:\n",
    "        assert pathlib.Path(file).is_file()\n",
    "        with open(file, 'r') as file:\n",
    "            context = file.read()\n",
    "            \n",
    "        preprocessed = re.sub(r'[^\\w\\s]', '', context)  \n",
    "        preprocessed = re.split(r'([,.?_!\"()\\']|--|\\s)', preprocessed)  # Split by punctuation and whitespace\n",
    "        preprocessed = [item.strip().lower() for item in preprocessed if item.strip()]  \n",
    "        preprocessed = [item for item in preprocessed if item.isalpha()] \n",
    "        all_tokens = sorted(list(set(preprocessed)))\n",
    "        all_tokens.extend([\"<|endoftext|>\", \"<|unk|>\"])\n",
    "        self.vocab = {token: integer for integer, token in enumerate(all_tokens)}\n",
    "\n",
    "    def __init__(self, file: str):\n",
    "        self.__setup(file)\n",
    "\n",
    "    def update_vocab(self, file: str):\n",
    "        self.__setup(file)\n",
    "\n",
    "    def get_vocab(self):\n",
    "        return self.vocab"
   ]
  },
  {
   "cell_type": "markdown",
   "metadata": {},
   "source": [
    "### Tokenizer"
   ]
  },
  {
   "cell_type": "code",
   "execution_count": 164,
   "metadata": {},
   "outputs": [],
   "source": [
    "class SimpleTokenizerV2:\n",
    "    def __init__(self, vocab):\n",
    "        self.str_to_int = vocab\n",
    "        self.int_to_str = { i:s for s,i in vocab.items()}\n",
    "    \n",
    "    def encode(self, text):\n",
    "        preprocessed = re.split(r'([,.?_!\"()\\']|--|\\s)', text)\n",
    "        preprocessed = [item.strip() for item in preprocessed if item.strip()]\n",
    "        preprocessed = [item if item in self.str_to_int else \"<|unk|>\" for item in preprocessed]\n",
    " \n",
    "        ids = [self.str_to_int[s] for s in preprocessed]\n",
    "        return ids\n",
    "        \n",
    "    def decode(self, ids):\n",
    "        text = \" \".join([self.int_to_str[i] for i in ids])\n",
    " \n",
    "        text = re.sub(r'\\s+([,.?!\"()\\'])', r'\\1', text)\n",
    "        return text"
   ]
  },
  {
   "cell_type": "code",
   "execution_count": 165,
   "metadata": {},
   "outputs": [],
   "source": [
    "vb = VocabBuilder(\"./raw_data.txt\")"
   ]
  },
  {
   "cell_type": "code",
   "execution_count": 166,
   "metadata": {},
   "outputs": [],
   "source": [
    "tokenizer  = SimpleTokenizerV2(vb.get_vocab())"
   ]
  },
  {
   "cell_type": "code",
   "execution_count": 182,
   "metadata": {},
   "outputs": [],
   "source": [
    "\n",
    " \n",
    "class GPTDatasetV1(Dataset):\n",
    "    \n",
    "    def check_tokenizer_interface(self, tokenizer):\n",
    "        assert hasattr(tokenizer, \"encode\") \n",
    "        assert hasattr(tokenizer, \"decode\")\n",
    "\n",
    "    def __init__(self, txt:str, tokenizer:Any, max_length:int, stride:int=1):\n",
    "        \"\"\"Constructor\"\"\"\n",
    "        self.check_tokenizer_interface(tokenizer) \n",
    "        self.tokenizer = tokenizer\n",
    "        self.input_ids = []\n",
    "        self.target_ids = []\n",
    " \n",
    "        token_ids = tokenizer.encode(txt)\n",
    " \n",
    "        for i in range(0, len(token_ids) - max_length, stride):\n",
    "            input_chunk = token_ids[i:i + max_length]\n",
    "            target_chunk = token_ids[i + 1: i + max_length + 1]\n",
    "            self.input_ids.append(torch.tensor(input_chunk))\n",
    "            self.target_ids.append(torch.tensor(target_chunk))\n",
    " \n",
    "    def __len__(self):\n",
    "        return len(self.input_ids)\n",
    " \n",
    "    def __getitem__(self, idx):\n",
    "        return self.input_ids[idx], self.target_ids[idx]"
   ]
  },
  {
   "cell_type": "code",
   "execution_count": 175,
   "metadata": {},
   "outputs": [],
   "source": [
    "dataset  = GPTDatasetV1(\n",
    "    txt = \"hello, we check our tokenizer for creating interesting tasks\",\n",
    "    tokenizer=tokenizer,\n",
    "    max_length=5,\n",
    "    stride=1)"
   ]
  },
  {
   "cell_type": "code",
   "execution_count": 176,
   "metadata": {},
   "outputs": [
    {
     "data": {
      "text/plain": [
       "(tensor([8334, 8023, 1179, 5070, 8334]),\n",
       " tensor([8023, 1179, 5070, 8334, 2907]))"
      ]
     },
     "execution_count": 176,
     "metadata": {},
     "output_type": "execute_result"
    }
   ],
   "source": [
    "dataset[1]"
   ]
  },
  {
   "cell_type": "code",
   "execution_count": 189,
   "metadata": {},
   "outputs": [],
   "source": [
    "def create_dataloader_v1(\\\n",
    "        txt, \n",
    "        batch_size=4, \n",
    "        max_length=256, \n",
    "        stride=128, \n",
    "        shuffle=True, \n",
    "        drop_last=True) -> torch.utils.data.DataLoader:\n",
    "        \n",
    "        tokenizer = tiktoken.get_encoding(\"gpt2\")\n",
    "        dataset = GPTDatasetV1(txt, tokenizer, max_length, stride)\n",
    "        dataloader = DataLoader(\n",
    "                dataset,\n",
    "                batch_size=batch_size, \n",
    "                shuffle=shuffle, \n",
    "                drop_last=drop_last)\n",
    "        return dataloader"
   ]
  },
  {
   "cell_type": "code",
   "execution_count": 188,
   "metadata": {},
   "outputs": [
    {
     "data": {
      "text/plain": [
       "torch.utils.data.dataloader.DataLoader"
      ]
     },
     "execution_count": 188,
     "metadata": {},
     "output_type": "execute_result"
    }
   ],
   "source": [
    "DataLoader"
   ]
  },
  {
   "cell_type": "code",
   "execution_count": null,
   "metadata": {},
   "outputs": [],
   "source": []
  }
 ],
 "metadata": {
  "kernelspec": {
   "display_name": "venv",
   "language": "python",
   "name": "python3"
  },
  "language_info": {
   "codemirror_mode": {
    "name": "ipython",
    "version": 3
   },
   "file_extension": ".py",
   "mimetype": "text/x-python",
   "name": "python",
   "nbconvert_exporter": "python",
   "pygments_lexer": "ipython3",
   "version": "3.12.3"
  }
 },
 "nbformat": 4,
 "nbformat_minor": 2
}
