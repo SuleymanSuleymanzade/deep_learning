{
 "cells": [
  {
   "cell_type": "code",
   "execution_count": 1,
   "metadata": {},
   "outputs": [],
   "source": [
    "import torch \n",
    "import torch.nn as nn "
   ]
  },
  {
   "cell_type": "markdown",
   "metadata": {},
   "source": [
    "### Creating Dropout layer from scratch "
   ]
  },
  {
   "cell_type": "code",
   "execution_count": 14,
   "metadata": {},
   "outputs": [],
   "source": [
    "class MyDropout(nn.Module):\n",
    "    def __init__(self, p=0.3):\n",
    "        super(MyDropout, self).__init__()\n",
    "        assert 0 < p < 1 \n",
    "        self.p = p \n",
    "\n",
    "    def forward(self, X:torch.Tensor):\n",
    "        if self.training: #model.train()\n",
    "            mask = torch.rand_like(X) > self.p \n",
    "            X = X * mask / (1 - self.p)\n",
    "        # in model.eval() it does not works\n",
    "        return X"
   ]
  },
  {
   "cell_type": "code",
   "execution_count": 15,
   "metadata": {},
   "outputs": [
    {
     "name": "stdout",
     "output_type": "stream",
     "text": [
      "tensor([[ 0.0000,  1.5213, -0.0000,  1.3990, -0.0000,  0.1018, -0.0621,  5.6282,\n",
      "         -0.0000,  0.0000]])\n",
      "tensor([[False, False,  True, False, False, False,  True,  True, False, False]])\n",
      "tensor([[-0.0000, -0.0000,  2.5190, -0.0000, -0.0000, -0.0000, -2.1518,  0.5784,\n",
      "          0.0000, -0.0000]])\n"
     ]
    }
   ],
   "source": [
    "dropout_layer = MyDropout(p=0.5)\n",
    "input_tensor = torch.randn(1, 10)  # Example input tensor with shape (1, 10)\n",
    "print(output_tensor)\n",
    "output_tensor = dropout_layer(input_tensor)\n",
    "print(output_tensor)"
   ]
  },
  {
   "cell_type": "code",
   "execution_count": null,
   "metadata": {},
   "outputs": [],
   "source": []
  }
 ],
 "metadata": {
  "kernelspec": {
   "display_name": "venv",
   "language": "python",
   "name": "python3"
  },
  "language_info": {
   "codemirror_mode": {
    "name": "ipython",
    "version": 3
   },
   "file_extension": ".py",
   "mimetype": "text/x-python",
   "name": "python",
   "nbconvert_exporter": "python",
   "pygments_lexer": "ipython3",
   "version": "3.10.7"
  }
 },
 "nbformat": 4,
 "nbformat_minor": 2
}
